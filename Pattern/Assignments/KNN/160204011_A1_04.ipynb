{
  "nbformat": 4,
  "nbformat_minor": 0,
  "metadata": {
    "kernelspec": {
      "display_name": "Python 3",
      "language": "python",
      "name": "python3"
    },
    "language_info": {
      "codemirror_mode": {
        "name": "ipython",
        "version": 3
      },
      "file_extension": ".py",
      "mimetype": "text/x-python",
      "name": "python",
      "nbconvert_exporter": "python",
      "pygments_lexer": "ipython3",
      "version": "3.8.5"
    },
    "colab": {
      "name": "160204011_A1_04.ipynb",
      "provenance": [],
      "collapsed_sections": []
    }
  },
  "cells": [
    {
      "cell_type": "code",
      "metadata": {
        "id": "Ym6O8WUvd2SK"
      },
      "source": [
        "#import necessary libaries\n",
        "import math\n",
        "import pandas as pd\n",
        "import numpy as np\n",
        "import io\n",
        "import matplotlib.pyplot as plt\n",
        "import matplotlib.pyplot as plt"
      ],
      "execution_count": 6,
      "outputs": []
    },
    {
      "cell_type": "code",
      "metadata": {
        "colab": {
          "resources": {
            "http://localhost:8080/nbextensions/google.colab/files.js": {
              "data": "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",
              "ok": true,
              "headers": [
                [
                  "content-type",
                  "application/javascript"
                ]
              ],
              "status": 200,
              "status_text": ""
            }
          },
          "base_uri": "https://localhost:8080/",
          "height": 127
        },
        "id": "hrst9KuRhUjG",
        "outputId": "24db4793-b6c9-4b9c-8af9-cb96e7a4b065"
      },
      "source": [
        "from google.colab import files\r\n",
        "\r\n",
        "traindataset = files.upload()\r\n",
        "testdataset = files.upload()\r\n"
      ],
      "execution_count": 14,
      "outputs": [
        {
          "output_type": "display_data",
          "data": {
            "text/html": [
              "\n",
              "     <input type=\"file\" id=\"files-a0ac41aa-9912-49bc-921e-d0eaee65ac79\" name=\"files[]\" multiple disabled\n",
              "        style=\"border:none\" />\n",
              "     <output id=\"result-a0ac41aa-9912-49bc-921e-d0eaee65ac79\">\n",
              "      Upload widget is only available when the cell has been executed in the\n",
              "      current browser session. Please rerun this cell to enable.\n",
              "      </output>\n",
              "      <script src=\"/nbextensions/google.colab/files.js\"></script> "
            ],
            "text/plain": [
              "<IPython.core.display.HTML object>"
            ]
          },
          "metadata": {
            "tags": []
          }
        },
        {
          "output_type": "stream",
          "text": [
            "Saving train_knn.txt to train_knn (2).txt\n"
          ],
          "name": "stdout"
        },
        {
          "output_type": "display_data",
          "data": {
            "text/html": [
              "\n",
              "     <input type=\"file\" id=\"files-7989cdc1-46b4-492b-93e1-ac8f0f91ecee\" name=\"files[]\" multiple disabled\n",
              "        style=\"border:none\" />\n",
              "     <output id=\"result-7989cdc1-46b4-492b-93e1-ac8f0f91ecee\">\n",
              "      Upload widget is only available when the cell has been executed in the\n",
              "      current browser session. Please rerun this cell to enable.\n",
              "      </output>\n",
              "      <script src=\"/nbextensions/google.colab/files.js\"></script> "
            ],
            "text/plain": [
              "<IPython.core.display.HTML object>"
            ]
          },
          "metadata": {
            "tags": []
          }
        },
        {
          "output_type": "stream",
          "text": [
            "Saving test_knn.txt to test_knn (2).txt\n"
          ],
          "name": "stdout"
        }
      ]
    },
    {
      "cell_type": "code",
      "metadata": {
        "colab": {
          "base_uri": "https://localhost:8080/"
        },
        "id": "NWWNY1UFd2Sb",
        "outputId": "b26e2e31-a11e-4726-fc41-eac9725e871d"
      },
      "source": [
        "traindataset=pd.read_csv(io.BytesIO(traindataset['train_knn.txt']), sep=\",\", header=None)\n",
        "train=traindataset.to_numpy();\n",
        "#print(train)\n",
        "testdataset=pd.read_csv(io.BytesIO(testdataset['test_knn.txt']), sep=\",\", header=None)\n",
        "#print(testdataset)\n",
        "test=testdataset.to_numpy();\n",
        "print(train[0])\n",
        "print(test)"
      ],
      "execution_count": 15,
      "outputs": [
        {
          "output_type": "stream",
          "text": [
            "[7 7 1]\n",
            "[[3 7]\n",
            " [7 7]\n",
            " [4 3]\n",
            " [2 8]\n",
            " [3 5]\n",
            " [1 2]\n",
            " [4 8]\n",
            " [8 3]\n",
            " [8 4]]\n"
          ],
          "name": "stdout"
        }
      ]
    },
    {
      "cell_type": "code",
      "metadata": {
        "id": "Zt_uvi3Qd2Sf"
      },
      "source": [
        "#PART1"
      ],
      "execution_count": null,
      "outputs": []
    },
    {
      "cell_type": "code",
      "metadata": {
        "colab": {
          "base_uri": "https://localhost:8080/"
        },
        "id": "KWrV8hXbd2Sg",
        "outputId": "cefbd63c-fbc2-4a5c-bbf8-3f8a0cd0cfee"
      },
      "source": [
        "Trainclass1 =[([i[0],i[1]]) for i in train if i[2] == 1]\n",
        "Trainclass2 =[([i[0],i[1]]) for i in train if i[2] == 2]\n",
        "Trainclass1 = np.array(Trainclass1)\n",
        "Trainclass2 = np.array(Trainclass2)\n",
        "print(Trainclass1)\n",
        "print(Trainclass2)"
      ],
      "execution_count": 16,
      "outputs": [
        {
          "output_type": "stream",
          "text": [
            "[[7 7]\n",
            " [7 4]\n",
            " [6 4]\n",
            " [7 5]\n",
            " [7 6]\n",
            " [6 7]\n",
            " [6 6]]\n",
            "[[3 4]\n",
            " [2 3]\n",
            " [3 2]\n",
            " [4 3]\n",
            " [3 3]\n",
            " [4 4]\n",
            " [1 4]]\n"
          ],
          "name": "stdout"
        }
      ]
    },
    {
      "cell_type": "code",
      "metadata": {
        "colab": {
          "base_uri": "https://localhost:8080/"
        },
        "id": "tUQfx_dLd2Sh",
        "outputId": "bc8b4ffc-bc39-45e7-ddf7-250fce89c695"
      },
      "source": [
        "x = np.concatenate((Trainclass1, Trainclass2), axis=0)\n",
        "x"
      ],
      "execution_count": 17,
      "outputs": [
        {
          "output_type": "execute_result",
          "data": {
            "text/plain": [
              "array([[7, 7],\n",
              "       [7, 4],\n",
              "       [6, 4],\n",
              "       [7, 5],\n",
              "       [7, 6],\n",
              "       [6, 7],\n",
              "       [6, 6],\n",
              "       [3, 4],\n",
              "       [2, 3],\n",
              "       [3, 2],\n",
              "       [4, 3],\n",
              "       [3, 3],\n",
              "       [4, 4],\n",
              "       [1, 4]])"
            ]
          },
          "metadata": {
            "tags": []
          },
          "execution_count": 17
        }
      ]
    },
    {
      "cell_type": "code",
      "metadata": {
        "colab": {
          "base_uri": "https://localhost:8080/",
          "height": 265
        },
        "id": "gTN7y4fQjq5g",
        "outputId": "7ca1d96c-8b01-4310-a8b8-aee37aa0aad5"
      },
      "source": [
        "fig = plt.figure()\r\n",
        "plt.scatter(Trainclass1[:,0], Trainclass1[:,1], c = 'r', marker = 'o', label = ' class 1')\r\n",
        "plt.scatter(Trainclass2[:,0], Trainclass2[:,1], c = 'g', marker = 'x', label = ' class 2')\r\n",
        "plt.legend(loc = 'best')\r\n",
        "plt.show()"
      ],
      "execution_count": 19,
      "outputs": [
        {
          "output_type": "display_data",
          "data": {
            "image/png": "[encoded data removed]",
            "text/plain": [
              "<Figure size 432x288 with 1 Axes>"
            ]
          },
          "metadata": {
            "tags": [],
            "needs_background": "light"
          }
        }
      ]
    },
    {
      "cell_type": "code",
      "metadata": {
        "id": "onXYCl1Xd2Sj"
      },
      "source": [
        "#part2"
      ],
      "execution_count": null,
      "outputs": []
    },
    {
      "cell_type": "code",
      "metadata": {
        "id": "ekLiZDUcd2Sk",
        "outputId": "488bdc3c-2735-4679-ed70-40b15bd7e771"
      },
      "source": [
        "p1=[1,4]\n",
        "p2 =[3,7]\n",
        "print(p2[1])\n",
        "sum = 0\n",
        "sum = math.pow(p1[0] - p2[0], 2) + math.pow(p1[1] - p2[1], 2)\n",
        "print(round(math.sqrt(sum),2))\n",
        "print(x[1])\n",
        "def a(x):\n",
        "    print(a[0])"
      ],
      "execution_count": null,
      "outputs": [
        {
          "output_type": "stream",
          "text": [
            "7\n",
            "3.61\n",
            "[7 4]\n"
          ],
          "name": "stdout"
        }
      ]
    },
    {
      "cell_type": "code",
      "metadata": {
        "id": "db92tBl1d2Sl"
      },
      "source": [
        "def euclidian_dist(p1, p2):\n",
        "    sum = 0\n",
        "    sum = math.pow(p1[0] - p2[0], 2) + math.pow(p1[1] - p2[1], 2)\n",
        "    return round(math.sqrt(sum),2)"
      ],
      "execution_count": 21,
      "outputs": []
    },
    {
      "cell_type": "code",
      "metadata": {
        "colab": {
          "base_uri": "https://localhost:8080/"
        },
        "id": "bp_ETdWvd2Sl",
        "outputId": "e19c6481-30d4-4727-83e8-77cf05caf393"
      },
      "source": [
        "new_sample = [3,7]\n",
        "dists = {}\n",
        "dx = []\n",
        "dx1=[]\n",
        "for i in range(len(x)):\n",
        "    d = euclidian_dist(x[i], new_sample)\n",
        "    dx.append(d)\n",
        "    print(dx)\n",
        "    dists[i] = d\n",
        "    #print(dists[i])\n",
        "dx.sort()\n",
        "print(dx)\n",
        "\"\"\"for i in range(3):\n",
        "    print(dx[i])\"\"\"\n",
        "\n",
        "k_neighbors = sorted(dists,key = dists.get)[:3]\n",
        "\n",
        "#print(len(k_neighbours))\n",
        "print(k_neighbors[0])\n",
        "#print(dists[5])\n",
        "#print(dists[7])\n",
        "#print(dists[6])\n",
        "\"\"\"for i in range(3):\n",
        "    #dx1.append(dx[i])\n",
        "print()\"\"\"\n",
        "\"\"\"\"for i in k_neighbours:\n",
        "    #print(i)\"\"\"\n",
        "\n",
        "print(train[k_neighbors[0]][-1])\n",
        "\n",
        "\n",
        "#dx1"
      ],
      "execution_count": 22,
      "outputs": [
        {
          "output_type": "stream",
          "text": [
            "[4.0]\n",
            "[4.0, 5.0]\n",
            "[4.0, 5.0, 4.24]\n",
            "[4.0, 5.0, 4.24, 4.47]\n",
            "[4.0, 5.0, 4.24, 4.47, 4.12]\n",
            "[4.0, 5.0, 4.24, 4.47, 4.12, 3.0]\n",
            "[4.0, 5.0, 4.24, 4.47, 4.12, 3.0, 3.16]\n",
            "[4.0, 5.0, 4.24, 4.47, 4.12, 3.0, 3.16, 3.0]\n",
            "[4.0, 5.0, 4.24, 4.47, 4.12, 3.0, 3.16, 3.0, 4.12]\n",
            "[4.0, 5.0, 4.24, 4.47, 4.12, 3.0, 3.16, 3.0, 4.12, 5.0]\n",
            "[4.0, 5.0, 4.24, 4.47, 4.12, 3.0, 3.16, 3.0, 4.12, 5.0, 4.12]\n",
            "[4.0, 5.0, 4.24, 4.47, 4.12, 3.0, 3.16, 3.0, 4.12, 5.0, 4.12, 4.0]\n",
            "[4.0, 5.0, 4.24, 4.47, 4.12, 3.0, 3.16, 3.0, 4.12, 5.0, 4.12, 4.0, 3.16]\n",
            "[4.0, 5.0, 4.24, 4.47, 4.12, 3.0, 3.16, 3.0, 4.12, 5.0, 4.12, 4.0, 3.16, 3.61]\n",
            "[3.0, 3.0, 3.16, 3.16, 3.61, 4.0, 4.0, 4.12, 4.12, 4.12, 4.24, 4.47, 5.0, 5.0]\n",
            "5\n",
            "1\n"
          ],
          "name": "stdout"
        }
      ]
    },
    {
      "cell_type": "code",
      "metadata": {
        "id": "YXVHekY8d2Sm"
      },
      "source": [
        "def knn(x,train_set, new_sample, K):\n",
        "    dists = {}\n",
        "    \n",
        "    for i in range(len(x)):\n",
        "      d = euclidian_dist(x[i], new_sample)\n",
        "      dists[i] = d\n",
        "    \n",
        "    k_neighbors = sorted(dists, key=dists.get)[:K]\n",
        "    \n",
        "    qty_label1 = 0 \n",
        "    qty_label2 = 0\n",
        "    for index in k_neighbors:\n",
        "        if train_set[index][-1] == 1:\n",
        "            qty_label1 += 1\n",
        "        else:\n",
        "            qty_label2 += 1\n",
        "            \n",
        "    if qty_label1 > qty_label2:\n",
        "        return 1\n",
        "    else:\n",
        "        return 2"
      ],
      "execution_count": 23,
      "outputs": []
    },
    {
      "cell_type": "code",
      "metadata": {
        "colab": {
          "base_uri": "https://localhost:8080/"
        },
        "id": "UDg6UtuGd2Sn",
        "outputId": "a60cc72c-c93a-4064-f536-44e8ac345e13"
      },
      "source": [
        "K = int(input(\"Enter your value of k: \") )\n",
        "l = []\n",
        "for j in range(len(test)):\n",
        "    label = knn(x,train, test[j], K)\n",
        "    l.append(label)\n",
        "l\n",
        "    "
      ],
      "execution_count": 24,
      "outputs": [
        {
          "output_type": "stream",
          "text": [
            "Enter your value of k: 3\n"
          ],
          "name": "stdout"
        },
        {
          "output_type": "execute_result",
          "data": {
            "text/plain": [
              "[1, 1, 2, 2, 2, 2, 1, 1, 1]"
            ]
          },
          "metadata": {
            "tags": []
          },
          "execution_count": 24
        }
      ]
    },
    {
      "cell_type": "code",
      "metadata": {
        "colab": {
          "base_uri": "https://localhost:8080/"
        },
        "id": "7E2nX3mZd2So",
        "outputId": "a10c9d4b-e49b-4f3e-b21b-810b2672cfe2"
      },
      "source": [
        "test_label = np.array(l)\n",
        "print(test_label)"
      ],
      "execution_count": 26,
      "outputs": [
        {
          "output_type": "stream",
          "text": [
            "[1 1 2 2 2 2 1 1 1]\n"
          ],
          "name": "stdout"
        }
      ]
    },
    {
      "cell_type": "code",
      "metadata": {
        "id": "X4b-Djzhd2Sp"
      },
      "source": [
        "y=np.zeros([9,3])\n",
        "y[:,0]=test[:,0]\n",
        "y[:,1]=test[:,1]\n",
        "y[:,2]=test_label"
      ],
      "execution_count": 27,
      "outputs": []
    },
    {
      "cell_type": "code",
      "metadata": {
        "colab": {
          "base_uri": "https://localhost:8080/"
        },
        "id": "9MJ7FJMEd2Sp",
        "outputId": "b46ed20c-d20e-4d08-8615-746b93da300d"
      },
      "source": [
        "y"
      ],
      "execution_count": 28,
      "outputs": [
        {
          "output_type": "execute_result",
          "data": {
            "text/plain": [
              "array([[3., 7., 1.],\n",
              "       [7., 7., 1.],\n",
              "       [4., 3., 2.],\n",
              "       [2., 8., 2.],\n",
              "       [3., 5., 2.],\n",
              "       [1., 2., 2.],\n",
              "       [4., 8., 1.],\n",
              "       [8., 3., 1.],\n",
              "       [8., 4., 1.]])"
            ]
          },
          "metadata": {
            "tags": []
          },
          "execution_count": 28
        }
      ]
    },
    {
      "cell_type": "code",
      "metadata": {
        "id": "mNVS9oJld2Sq"
      },
      "source": [
        "test1 =[([i[0],i[1]]) for i in y if i[2] == 1]\n",
        "test2 =[([i[0],i[1]]) for i in y if i[2] == 2]\n",
        "test1 = np.array(test1)\n",
        "test2 = np.array(test2)"
      ],
      "execution_count": 30,
      "outputs": []
    },
    {
      "cell_type": "code",
      "metadata": {
        "colab": {
          "base_uri": "https://localhost:8080/",
          "height": 265
        },
        "id": "UUKQbZUtl7aR",
        "outputId": "4e7867f9-17a1-4bbd-de61-d79ffaf66bfd"
      },
      "source": [
        "fig = plt.figure()\r\n",
        "plt.scatter(test1[:,0], test1[:,1], c = 'r', marker = 'o', label = ' Test class 1')\r\n",
        "plt.scatter(test2[:,0], test2[:,1], c = 'g', marker = 'x', label = 'Test  class 2')\r\n",
        "plt.legend(loc = 'best')\r\n",
        "plt.show()"
      ],
      "execution_count": 32,
      "outputs": [
        {
          "output_type": "display_data",
          "data": {
            "image/png": "[encoded data removed]",
            "text/plain": [
              "<Figure size 432x288 with 1 Axes>"
            ]
          },
          "metadata": {
            "tags": [],
            "needs_background": "light"
          }
        }
      ]
    },
    {
      "cell_type": "code",
      "metadata": {
        "id": "7gOg3jfJd2Sr"
      },
      "source": [
        "#part3"
      ],
      "execution_count": null,
      "outputs": []
    },
    {
      "cell_type": "code",
      "metadata": {
        "id": "157RGLZgd2Ss"
      },
      "source": [
        "file = open(\"predict.txt\", \"w\")"
      ],
      "execution_count": 33,
      "outputs": []
    },
    {
      "cell_type": "code",
      "metadata": {
        "id": "VN1g98Psd2Ss"
      },
      "source": [
        "def knnx(x,train_set, new_sample, K):\n",
        "    dists = {}\n",
        "    dx = []\n",
        "    dx1 = []\n",
        "    \n",
        "    qty_label1 = 0 \n",
        "    qty_label2 = 0 \n",
        "    \n",
        "    for i in range(len(x)):\n",
        "      d = euclidian_dist(x[i], new_sample)\n",
        "      dists[i] = d\n",
        "      dx.append(d)\n",
        "      #print(dx)\n",
        "    dx.sort()\n",
        "    k_neighbors = sorted(dists, key=dists.get)[:K]\n",
        "    \n",
        "    \n",
        "    \n",
        "    for i in range(K):\n",
        "        dx1.append(dx[i])\n",
        "    \n",
        "    \n",
        "   \n",
        "    for index in range(len(k_neighbors)):\n",
        "        #print(index,':',dx1[index])\n",
        "        \n",
        "        if train_set[k_neighbors[index]][-1] == 1:\n",
        "            print('distance ',index+1,':',dx1[index],'class',1)\n",
        "            file.write(\"%s %s %s %s %s %s \\n\" %(\"distance\",index+1,\":\",dx1[index],\"class\",\"1\"))\n",
        "            qty_label1 += 1\n",
        "        else:\n",
        "            print('distance ',index+1,':',dx1[index],'class',2)\n",
        "            file.write(\"%s %s %s %s %s %s \\n\" %(\"distance\",index+1,\":\",dx1[index],\"class\",\"2\"))\n",
        "            qty_label2 += 1\n",
        "            \n",
        "    if qty_label1 > qty_label2:\n",
        "        #return 1\n",
        "          #print(index,':',dx1[index],1)\n",
        "        print('predicted  class 1')\n",
        "        file.write(\"%s\\n\" %(\"predicted  class 1\"))\n",
        "    else:\n",
        "        print('predicted  class 2')\n",
        "        file.write(\"%s\\n\" %(\"predicted  class 2\"))\n",
        "        #return 2\n",
        "          #print(index,':',dx1[index],2)"
      ],
      "execution_count": 34,
      "outputs": []
    },
    {
      "cell_type": "code",
      "metadata": {
        "colab": {
          "base_uri": "https://localhost:8080/"
        },
        "id": "-cjcW0tLd2Su",
        "outputId": "e117c3b1-2f00-4a9e-903d-46281aee4443"
      },
      "source": [
        "K = int(input(\"Enter your value of k: \"))\n",
        "for j in range(len(test)):\n",
        "    file.write(\"%s %s\\n\" %(\"test point\",test[j]))\n",
        "    print('test point',test[j])\n",
        "    knnx(x,train, test[j], K)\n",
        "    file.write('\\n')\n",
        "    print('\\n')\n",
        "file.close()"
      ],
      "execution_count": 35,
      "outputs": [
        {
          "output_type": "stream",
          "text": [
            "Enter your value of k: 3\n",
            "test point [3 7]\n",
            "distance  1 : 3.0 class 1\n",
            "distance  2 : 3.0 class 2\n",
            "distance  3 : 3.16 class 1\n",
            "predicted  class 1\n",
            "\n",
            "\n",
            "test point [7 7]\n",
            "distance  1 : 0.0 class 1\n",
            "distance  2 : 1.0 class 1\n",
            "distance  3 : 1.0 class 1\n",
            "predicted  class 1\n",
            "\n",
            "\n",
            "test point [4 3]\n",
            "distance  1 : 0.0 class 2\n",
            "distance  2 : 1.0 class 2\n",
            "distance  3 : 1.0 class 2\n",
            "predicted  class 2\n",
            "\n",
            "\n",
            "test point [2 8]\n",
            "distance  1 : 4.12 class 1\n",
            "distance  2 : 4.12 class 2\n",
            "distance  3 : 4.12 class 2\n",
            "predicted  class 2\n",
            "\n",
            "\n",
            "test point [3 5]\n",
            "distance  1 : 1.0 class 2\n",
            "distance  2 : 1.41 class 2\n",
            "distance  3 : 2.0 class 2\n",
            "predicted  class 2\n",
            "\n",
            "\n",
            "test point [1 2]\n",
            "distance  1 : 1.41 class 2\n",
            "distance  2 : 2.0 class 2\n",
            "distance  3 : 2.0 class 2\n",
            "predicted  class 2\n",
            "\n",
            "\n",
            "test point [4 8]\n",
            "distance  1 : 2.24 class 1\n",
            "distance  2 : 2.83 class 1\n",
            "distance  3 : 3.16 class 1\n",
            "predicted  class 1\n",
            "\n",
            "\n",
            "test point [8 3]\n",
            "distance  1 : 1.41 class 1\n",
            "distance  2 : 2.24 class 1\n",
            "distance  3 : 2.24 class 1\n",
            "predicted  class 1\n",
            "\n",
            "\n",
            "test point [8 4]\n",
            "distance  1 : 1.0 class 1\n",
            "distance  2 : 1.41 class 1\n",
            "distance  3 : 2.0 class 1\n",
            "predicted  class 1\n",
            "\n",
            "\n"
          ],
          "name": "stdout"
        }
      ]
    },
    {
      "cell_type": "code",
      "metadata": {
        "id": "TKES3fpid2Sw"
      },
      "source": [
        ""
      ],
      "execution_count": null,
      "outputs": []
    }
  ]
}